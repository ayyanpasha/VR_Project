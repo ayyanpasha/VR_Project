{
 "cells": [
  {
   "cell_type": "code",
   "execution_count": 1,
   "id": "b09c0986-a498-4ebf-b208-c163483b349d",
   "metadata": {},
   "outputs": [
    {
     "name": "stdout",
     "output_type": "stream",
     "text": [
      "Saved 4000 rows to sampled_metadata_stratified_1.csv\n",
      "Saved 4000 rows to sampled_metadata_stratified_2.csv\n",
      "Saved 4000 rows to sampled_metadata_stratified_3.csv\n",
      "Saved 4000 rows to sampled_metadata_stratified_4.csv\n",
      "Saved 4000 rows to sampled_metadata_stratified_5.csv\n"
     ]
    }
   ],
   "source": [
    "import pandas as pd\n",
    "\n",
    "# Load the original CSV\n",
    "df = pd.read_csv(\"sampled_metadata_stratified.csv\")\n",
    "\n",
    "# Get total number of rows and number of chunks\n",
    "num_parts = 5\n",
    "rows_per_part = len(df) // num_parts\n",
    "\n",
    "# Loop and save each part\n",
    "for i in range(num_parts):\n",
    "    start_idx = i * rows_per_part\n",
    "    end_idx = (i + 1) * rows_per_part if i < num_parts - 1 else len(df)\n",
    "    df_part = df.iloc[start_idx:end_idx]\n",
    "    output_path = f\"sampled_metadata_stratified_{i+1}.csv\"\n",
    "    df_part.to_csv(output_path, index=False)\n",
    "    print(f\"Saved {len(df_part)} rows to {output_path}\")\n"
   ]
  }
 ],
 "metadata": {
  "kernelspec": {
   "display_name": "Python 3 (ipykernel)",
   "language": "python",
   "name": "python3"
  },
  "language_info": {
   "codemirror_mode": {
    "name": "ipython",
    "version": 3
   },
   "file_extension": ".py",
   "mimetype": "text/x-python",
   "name": "python",
   "nbconvert_exporter": "python",
   "pygments_lexer": "ipython3",
   "version": "3.12.4"
  }
 },
 "nbformat": 4,
 "nbformat_minor": 5
}
