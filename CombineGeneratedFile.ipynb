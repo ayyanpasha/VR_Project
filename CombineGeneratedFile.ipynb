{
 "cells": [
  {
   "cell_type": "code",
   "execution_count": 1,
   "id": "07baa717-a35c-4fe0-8777-c0fed02a302f",
   "metadata": {},
   "outputs": [
    {
     "name": "stdout",
     "output_type": "stream",
     "text": [
      "✅ Combined files into 'vqa_dataset_groq_final.csv'\n"
     ]
    }
   ],
   "source": [
    "import pandas as pd\n",
    "\n",
    "# Step 1: List all files to merge\n",
    "files = [f\"vqa_dataset_groq_final_{i}.csv\" for i in range(1, 6)]\n",
    "\n",
    "# Step 2: Read and concatenate them\n",
    "df_list = [pd.read_csv(file) for file in files]\n",
    "merged_df = pd.concat(df_list, ignore_index=True)\n",
    "\n",
    "# Step 3: Save to a single CSV file\n",
    "merged_df.to_csv(\"vqa_dataset_groq_final.csv\", index=False)\n",
    "\n",
    "print(\"✅ Combined files into 'vqa_dataset_groq_final.csv'\")\n"
   ]
  }
 ],
 "metadata": {
  "kernelspec": {
   "display_name": "Python 3 (ipykernel)",
   "language": "python",
   "name": "python3"
  },
  "language_info": {
   "codemirror_mode": {
    "name": "ipython",
    "version": 3
   },
   "file_extension": ".py",
   "mimetype": "text/x-python",
   "name": "python",
   "nbconvert_exporter": "python",
   "pygments_lexer": "ipython3",
   "version": "3.12.4"
  }
 },
 "nbformat": 4,
 "nbformat_minor": 5
}
