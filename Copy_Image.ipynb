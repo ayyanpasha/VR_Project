{
 "cells": [
  {
   "cell_type": "code",
   "execution_count": 1,
   "id": "57eba8d5-ffc7-4732-9814-9ef82e6e541d",
   "metadata": {},
   "outputs": [
    {
     "name": "stderr",
     "output_type": "stream",
     "text": [
      "100%|██████████| 19999/19999 [00:12<00:00, 1596.84it/s]"
     ]
    },
    {
     "name": "stdout",
     "output_type": "stream",
     "text": [
      "✅ All available images copied to 'images/' folder.\n"
     ]
    },
    {
     "name": "stderr",
     "output_type": "stream",
     "text": [
      "\n"
     ]
    }
   ],
   "source": [
    "import os\n",
    "import shutil\n",
    "import pandas as pd\n",
    "from tqdm import tqdm\n",
    "\n",
    "# Load your CSV\n",
    "df = pd.read_csv(\"vqa_dataset_groq_final.csv\")\n",
    "\n",
    "# Base folders\n",
    "src_root = \"small\"\n",
    "dest_root = \"images\"\n",
    "\n",
    "# Go through each image path in the CSV\n",
    "for rel_path in tqdm(df[\"path\"]):\n",
    "    src_path = os.path.join(src_root, rel_path)\n",
    "    dest_path = os.path.join(dest_root, rel_path)\n",
    "\n",
    "    # Ensure destination subfolder exists\n",
    "    os.makedirs(os.path.dirname(dest_path), exist_ok=True)\n",
    "\n",
    "    # Copy the file if it exists\n",
    "    if os.path.isfile(src_path):\n",
    "        shutil.copy2(src_path, dest_path)\n",
    "    else:\n",
    "        print(f\"❌ Missing: {src_path}\")\n",
    "\n",
    "print(\"✅ All available images copied to 'images/' folder.\")\n"
   ]
  },
  {
   "cell_type": "code",
   "execution_count": 3,
   "id": "dae08092-0bba-4fa6-a4e5-9d44f267ddce",
   "metadata": {},
   "outputs": [
    {
     "name": "stdout",
     "output_type": "stream",
     "text": [
      "📸 Total image files in 'images': 18204\n"
     ]
    }
   ],
   "source": [
    "import os\n",
    "\n",
    "# Root folder\n",
    "root_dir = \"images\"\n",
    "\n",
    "# Initialize file counter\n",
    "file_count = 0\n",
    "\n",
    "# Recursively walk through directories\n",
    "for dirpath, dirnames, filenames in os.walk(root_dir):\n",
    "    file_count += len(filenames)\n",
    "\n",
    "print(f\"📸 Total image files in '{root_dir}': {file_count}\")\n"
   ]
  },
  {
   "cell_type": "code",
   "execution_count": null,
   "id": "bb1d500b-77fc-45a4-83df-544f326b16e4",
   "metadata": {},
   "outputs": [],
   "source": []
  }
 ],
 "metadata": {
  "kernelspec": {
   "display_name": "Python 3 (ipykernel)",
   "language": "python",
   "name": "python3"
  },
  "language_info": {
   "codemirror_mode": {
    "name": "ipython",
    "version": 3
   },
   "file_extension": ".py",
   "mimetype": "text/x-python",
   "name": "python",
   "nbconvert_exporter": "python",
   "pygments_lexer": "ipython3",
   "version": "3.12.4"
  }
 },
 "nbformat": 4,
 "nbformat_minor": 5
}
