{
 "cells": [
  {
   "cell_type": "code",
   "execution_count": 1,
   "id": "11229b18-5729-4048-9f25-c2e71550f937",
   "metadata": {},
   "outputs": [
    {
     "name": "stdout",
     "output_type": "stream",
     "text": [
      "✅ Cleaned and saved 'vqa_train_cleaned.csv' and 'vqa_test_cleaned.csv'\n"
     ]
    }
   ],
   "source": [
    "import pandas as pd\n",
    "\n",
    "def clean_generated_answer(df):\n",
    "    # Remove rows starting with '**'\n",
    "    df = df[~df['generated_answer'].astype(str).str.startswith(\"**\")].copy()\n",
    "\n",
    "    # Keep only the first word\n",
    "    df['generated_answer'] = df['generated_answer'].astype(str).str.strip().str.split().str[0]\n",
    "\n",
    "    return df\n",
    "\n",
    "# Load CSVs\n",
    "train_df = pd.read_csv(\"vqa_train.csv\")\n",
    "test_df = pd.read_csv(\"vqa_test.csv\")\n",
    "\n",
    "# Clean the 'generated_answer' column\n",
    "train_df = clean_generated_answer(train_df)\n",
    "test_df = clean_generated_answer(test_df)\n",
    "\n",
    "# Save cleaned files\n",
    "train_df.to_csv(\"vqa_train_cleaned.csv\", index=False)\n",
    "test_df.to_csv(\"vqa_test_cleaned.csv\", index=False)\n",
    "\n",
    "print(\"✅ Cleaned and saved 'vqa_train_cleaned.csv' and 'vqa_test_cleaned.csv'\")\n"
   ]
  }
 ],
 "metadata": {
  "kernelspec": {
   "display_name": "Python 3 (ipykernel)",
   "language": "python",
   "name": "python3"
  },
  "language_info": {
   "codemirror_mode": {
    "name": "ipython",
    "version": 3
   },
   "file_extension": ".py",
   "mimetype": "text/x-python",
   "name": "python",
   "nbconvert_exporter": "python",
   "pygments_lexer": "ipython3",
   "version": "3.12.4"
  }
 },
 "nbformat": 4,
 "nbformat_minor": 5
}
