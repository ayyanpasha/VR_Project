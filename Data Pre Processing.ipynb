{
 "cells": [
  {
   "cell_type": "code",
   "execution_count": 1,
   "id": "9131fb72-80bc-4aed-a5a0-cb20f084e1b8",
   "metadata": {},
   "outputs": [
    {
     "name": "stdout",
     "output_type": "stream",
     "text": [
      "🔍 Loaded 147702 metadata entries.\n",
      "✅ Merged 147127 entries with image data.\n",
      "📁 Saved to 'filtered_metadata_with_images.csv'\n"
     ]
    }
   ],
   "source": [
    "import os\n",
    "import json\n",
    "import gzip\n",
    "import pandas as pd\n",
    "\n",
    "# Paths\n",
    "metadata_folder = \"metadata\"\n",
    "image_csv_path = \"images.csv\"\n",
    "\n",
    "# Collect all .json.gz metadata files\n",
    "metadata_files = [f for f in os.listdir(metadata_folder) if f.startswith(\"listings_\") and f.endswith(\".json.gz\")]\n",
    "\n",
    "all_metadata = []\n",
    "\n",
    "# Load metadata line-by-line from all .json.gz files\n",
    "for file_name in metadata_files:\n",
    "    file_path = os.path.join(metadata_folder, file_name)\n",
    "    with gzip.open(file_path, 'rt', encoding='utf-8') as f:\n",
    "        try:\n",
    "            for line in f:\n",
    "                data = json.loads(line.strip())\n",
    "                all_metadata.append(data)\n",
    "        except Exception as e:\n",
    "            print(f\"❌ Error loading {file_name}: {e}\")\n",
    "\n",
    "print(f\"🔍 Loaded {len(all_metadata)} metadata entries.\")\n",
    "\n",
    "# Convert metadata list to DataFrame\n",
    "metadata_df = pd.json_normalize(all_metadata)\n",
    "\n",
    "# Load image CSV\n",
    "image_df = pd.read_csv(image_csv_path)\n",
    "\n",
    "# Merge metadata with image data using main_image_id == image_id\n",
    "merged_df = metadata_df.merge(image_df, left_on=\"main_image_id\", right_on=\"image_id\", how=\"inner\")\n",
    "\n",
    "print(f\"✅ Merged {len(merged_df)} entries with image data.\")\n",
    "\n",
    "# Save to CSV\n",
    "merged_df.to_csv(\"filtered_metadata_with_images.csv\", index=False)\n",
    "print(\"📁 Saved to 'filtered_metadata_with_images.csv'\")\n"
   ]
  },
  {
   "cell_type": "code",
   "execution_count": null,
   "id": "7170eac9-53b6-4c48-831b-a3501d7f97f9",
   "metadata": {},
   "outputs": [],
   "source": []
  }
 ],
 "metadata": {
  "kernelspec": {
   "display_name": "Python 3 (ipykernel)",
   "language": "python",
   "name": "python3"
  },
  "language_info": {
   "codemirror_mode": {
    "name": "ipython",
    "version": 3
   },
   "file_extension": ".py",
   "mimetype": "text/x-python",
   "name": "python",
   "nbconvert_exporter": "python",
   "pygments_lexer": "ipython3",
   "version": "3.12.4"
  }
 },
 "nbformat": 4,
 "nbformat_minor": 5
}
