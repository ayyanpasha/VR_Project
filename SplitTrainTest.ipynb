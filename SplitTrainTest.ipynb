{
 "cells": [
  {
   "cell_type": "code",
   "execution_count": 1,
   "id": "90314099-543e-4ae6-bd83-639fcd300f1e",
   "metadata": {},
   "outputs": [
    {
     "name": "stdout",
     "output_type": "stream",
     "text": [
      "✅ Stratified split completed and saved:\n",
      "🔹 Total merged entries: 18203\n",
      "🟩 Train set: 14464 rows → 'vqa_train.csv'\n",
      "🟥 Test set:  3616 rows → 'vqa_test.csv'\n"
     ]
    }
   ],
   "source": [
    "import pandas as pd\n",
    "from sklearn.model_selection import train_test_split\n",
    "\n",
    "# Step 1: Load both datasets\n",
    "vqa_df = pd.read_csv(\"vqa_dataset_groq_final.csv\")\n",
    "meta_df = pd.read_csv(\"sampled_metadata_stratified.csv\")\n",
    "\n",
    "# Step 2: Remove duplicates by 'path' in both files\n",
    "vqa_df = vqa_df.drop_duplicates(subset='path')\n",
    "meta_df = meta_df.drop_duplicates(subset='path')\n",
    "\n",
    "# Step 3: Merge VQA with metadata on 'path'\n",
    "merged_df = pd.merge(vqa_df, meta_df[['path', 'product_type']], on='path', how='inner')\n",
    "\n",
    "# Step 4: Drop rare or missing product_type (required for stratified split)\n",
    "counts = merged_df['product_type'].value_counts()\n",
    "valid_classes = counts[counts >= 2].index\n",
    "filtered_df = merged_df[merged_df['product_type'].isin(valid_classes)]\n",
    "\n",
    "# Step 5: Stratified train-test split\n",
    "train_df, test_df = train_test_split(\n",
    "    filtered_df,\n",
    "    test_size=0.2,\n",
    "    stratify=filtered_df['product_type'],\n",
    "    random_state=42\n",
    ")\n",
    "\n",
    "# Step 6: Drop 'product_type' column and save the splits\n",
    "train_df.drop(columns=['product_type']).to_csv(\"vqa_train.csv\", index=False)\n",
    "test_df.drop(columns=['product_type']).to_csv(\"vqa_test.csv\", index=False)\n",
    "\n",
    "# Step 7: Sanity check printout\n",
    "print(\"✅ Stratified split completed and saved:\")\n",
    "print(f\"🔹 Total merged entries: {len(merged_df)}\")\n",
    "print(f\"🟩 Train set: {len(train_df)} rows → 'vqa_train.csv'\")\n",
    "print(f\"🟥 Test set:  {len(test_df)} rows → 'vqa_test.csv'\")\n"
   ]
  }
 ],
 "metadata": {
  "kernelspec": {
   "display_name": "Python 3 (ipykernel)",
   "language": "python",
   "name": "python3"
  },
  "language_info": {
   "codemirror_mode": {
    "name": "ipython",
    "version": 3
   },
   "file_extension": ".py",
   "mimetype": "text/x-python",
   "name": "python",
   "nbconvert_exporter": "python",
   "pygments_lexer": "ipython3",
   "version": "3.12.4"
  }
 },
 "nbformat": 4,
 "nbformat_minor": 5
}
