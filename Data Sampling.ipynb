{
 "cells": [
  {
   "cell_type": "code",
   "execution_count": 1,
   "id": "612ac2b2-391d-493b-b8d9-b3eb07d94a61",
   "metadata": {},
   "outputs": [
    {
     "name": "stdout",
     "output_type": "stream",
     "text": [
      "⚠️ Removed 59 rare product_type classes.\n",
      "✅ Sampled 20,000 rows and saved to 'sampled_metadata_stratified.csv'\n"
     ]
    }
   ],
   "source": [
    "import pandas as pd\n",
    "from sklearn.model_selection import train_test_split\n",
    "\n",
    "# Step 1: Load full metadata CSV\n",
    "df = pd.read_csv(\"filtered_metadata_with_images.csv\")\n",
    "\n",
    "# Step 2: Drop rows with missing 'product_type'\n",
    "df = df.dropna(subset=[\"product_type\"])\n",
    "\n",
    "# Step 3: Remove rare classes (with fewer than 2 entries)\n",
    "class_counts = df[\"product_type\"].value_counts()\n",
    "valid_classes = class_counts[class_counts >= 2].index\n",
    "df = df[df[\"product_type\"].isin(valid_classes)]\n",
    "\n",
    "# Optional: Show how many were removed\n",
    "print(f\"⚠️ Removed {len(class_counts) - len(valid_classes)} rare product_type classes.\")\n",
    "\n",
    "# Step 4: Perform stratified sampling of 20,000 rows\n",
    "_, sampled_df = train_test_split(\n",
    "    df,\n",
    "    test_size=20000,\n",
    "    stratify=df[\"product_type\"],\n",
    "    random_state=42\n",
    ")\n",
    "\n",
    "# Step 5: Save the sampled data\n",
    "sampled_df.to_csv(\"sampled_metadata_stratified.csv\", index=False)\n",
    "print(\"✅ Sampled 20,000 rows and saved to 'sampled_metadata_stratified.csv'\")\n"
   ]
  }
 ],
 "metadata": {
  "kernelspec": {
   "display_name": "Python 3 (ipykernel)",
   "language": "python",
   "name": "python3"
  },
  "language_info": {
   "codemirror_mode": {
    "name": "ipython",
    "version": 3
   },
   "file_extension": ".py",
   "mimetype": "text/x-python",
   "name": "python",
   "nbconvert_exporter": "python",
   "pygments_lexer": "ipython3",
   "version": "3.12.4"
  }
 },
 "nbformat": 4,
 "nbformat_minor": 5
}
